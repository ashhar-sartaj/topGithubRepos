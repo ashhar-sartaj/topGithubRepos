{
 "cells": [
  {
   "cell_type": "markdown",
   "id": "515e4f63",
   "metadata": {},
   "source": [
    "### Web Scrapping using BeatifulSoup."
   ]
  },
  {
   "cell_type": "markdown",
   "id": "6a18524c",
   "metadata": {},
   "source": [
    "The goal of the project is to get the top repositories in top 20 topics that is there on github.\n",
    "First we will be finding out the top topics on github"
   ]
  },
  {
   "cell_type": "markdown",
   "id": "084c76c4",
   "metadata": {},
   "source": [
    "https://github.com/ > Top 20 Topics > Extracting top 20 repositories from each topic."
   ]
  },
  {
   "cell_type": "markdown",
   "id": "7fea1387",
   "metadata": {},
   "source": [
    "Following are the modules that we will be using to scrap github.\n",
    "requests : request module used to gte the content of the website\n",
    "html5lib\n",
    "BeautifulSoup: html5lib and BeautifulSoup will be used to parse the html."
   ]
  },
  {
   "cell_type": "code",
   "execution_count": 1,
   "id": "c06e4401",
   "metadata": {},
   "outputs": [],
   "source": [
    "import pandas as pd\n",
    "import numpy as np"
   ]
  },
  {
   "cell_type": "code",
   "execution_count": 2,
   "id": "53ba1220",
   "metadata": {},
   "outputs": [
    {
     "name": "stdout",
     "output_type": "stream",
     "text": [
      "Requirement already satisfied: requests in c:\\users\\ashhar\\anaconda3\\lib\\site-packages (2.28.2)\n",
      "Requirement already satisfied: urllib3<1.27,>=1.21.1 in c:\\users\\ashhar\\anaconda3\\lib\\site-packages (from requests) (1.26.11)\n",
      "Requirement already satisfied: certifi>=2017.4.17 in c:\\users\\ashhar\\anaconda3\\lib\\site-packages (from requests) (2022.9.14)\n",
      "Requirement already satisfied: idna<4,>=2.5 in c:\\users\\ashhar\\anaconda3\\lib\\site-packages (from requests) (3.3)\n",
      "Requirement already satisfied: charset-normalizer<4,>=2 in c:\\users\\ashhar\\anaconda3\\lib\\site-packages (from requests) (2.0.4)\n"
     ]
    }
   ],
   "source": [
    "!pip install requests"
   ]
  },
  {
   "cell_type": "code",
   "execution_count": 3,
   "id": "c6f9208c",
   "metadata": {},
   "outputs": [
    {
     "name": "stdout",
     "output_type": "stream",
     "text": [
      "Requirement already satisfied: beautifulsoup4 in c:\\users\\ashhar\\anaconda3\\lib\\site-packages (4.12.0)\n",
      "Requirement already satisfied: soupsieve>1.2 in c:\\users\\ashhar\\anaconda3\\lib\\site-packages (from beautifulsoup4) (2.3.1)\n"
     ]
    }
   ],
   "source": [
    "!pip install beautifulsoup4"
   ]
  },
  {
   "cell_type": "code",
   "execution_count": 4,
   "id": "112dea95",
   "metadata": {},
   "outputs": [
    {
     "name": "stdout",
     "output_type": "stream",
     "text": [
      "Requirement already satisfied: html5lib in c:\\users\\ashhar\\anaconda3\\lib\\site-packages (1.1)\n",
      "Requirement already satisfied: six>=1.9 in c:\\users\\ashhar\\anaconda3\\lib\\site-packages (from html5lib) (1.16.0)\n",
      "Requirement already satisfied: webencodings in c:\\users\\ashhar\\anaconda3\\lib\\site-packages (from html5lib) (0.5.1)\n"
     ]
    }
   ],
   "source": [
    "!pip install html5lib"
   ]
  },
  {
   "cell_type": "code",
   "execution_count": 5,
   "id": "e0d209ea",
   "metadata": {},
   "outputs": [],
   "source": [
    "import requests\n",
    "from bs4 import BeautifulSoup"
   ]
  },
  {
   "cell_type": "code",
   "execution_count": 6,
   "id": "abe1b948",
   "metadata": {},
   "outputs": [],
   "source": [
    "url = 'https://github.com/topics'"
   ]
  },
  {
   "cell_type": "code",
   "execution_count": 7,
   "id": "7f267e0d",
   "metadata": {},
   "outputs": [],
   "source": [
    "r = requests.get(url)"
   ]
  },
  {
   "cell_type": "code",
   "execution_count": 8,
   "id": "738ecfa1",
   "metadata": {},
   "outputs": [],
   "source": [
    "htmlContent = r.content"
   ]
  },
  {
   "cell_type": "code",
   "execution_count": null,
   "id": "33d9ba03",
   "metadata": {},
   "outputs": [],
   "source": [
    "htmlContent"
   ]
  },
  {
   "cell_type": "code",
   "execution_count": 10,
   "id": "a7d60b13",
   "metadata": {},
   "outputs": [],
   "source": [
    "# Now parsing the html content using beautifulsoup\n",
    "soup = BeautifulSoup(htmlContent, 'html.parser')"
   ]
  },
  {
   "cell_type": "code",
   "execution_count": null,
   "id": "6973965c",
   "metadata": {},
   "outputs": [],
   "source": [
    "print(soup)"
   ]
  },
  {
   "cell_type": "markdown",
   "id": "2ed8e6a5",
   "metadata": {},
   "source": [
    "### We will be preparing a csv that will contain all the topics with their names, url, description\n"
   ]
  },
  {
   "cell_type": "markdown",
   "id": "ff5659b4",
   "metadata": {},
   "source": [
    "#### Topic Title tags"
   ]
  },
  {
   "cell_type": "code",
   "execution_count": null,
   "id": "509a39ad",
   "metadata": {},
   "outputs": [],
   "source": [
    "title_class = 'f3 lh-condensed mb-0 mt-1 Link--primary'\n",
    "title_tags = soup.find_all('p', {'class': title_class})"
   ]
  },
  {
   "cell_type": "code",
   "execution_count": 13,
   "id": "ca44147a",
   "metadata": {},
   "outputs": [
    {
     "data": {
      "text/plain": [
       "[<p class=\"f3 lh-condensed mb-0 mt-1 Link--primary\">3D</p>,\n",
       " <p class=\"f3 lh-condensed mb-0 mt-1 Link--primary\">Ajax</p>,\n",
       " <p class=\"f3 lh-condensed mb-0 mt-1 Link--primary\">Algorithm</p>,\n",
       " <p class=\"f3 lh-condensed mb-0 mt-1 Link--primary\">Amp</p>,\n",
       " <p class=\"f3 lh-condensed mb-0 mt-1 Link--primary\">Android</p>,\n",
       " <p class=\"f3 lh-condensed mb-0 mt-1 Link--primary\">Angular</p>,\n",
       " <p class=\"f3 lh-condensed mb-0 mt-1 Link--primary\">Ansible</p>,\n",
       " <p class=\"f3 lh-condensed mb-0 mt-1 Link--primary\">API</p>,\n",
       " <p class=\"f3 lh-condensed mb-0 mt-1 Link--primary\">Arduino</p>,\n",
       " <p class=\"f3 lh-condensed mb-0 mt-1 Link--primary\">ASP.NET</p>,\n",
       " <p class=\"f3 lh-condensed mb-0 mt-1 Link--primary\">Atom</p>,\n",
       " <p class=\"f3 lh-condensed mb-0 mt-1 Link--primary\">Awesome Lists</p>,\n",
       " <p class=\"f3 lh-condensed mb-0 mt-1 Link--primary\">Amazon Web Services</p>,\n",
       " <p class=\"f3 lh-condensed mb-0 mt-1 Link--primary\">Azure</p>,\n",
       " <p class=\"f3 lh-condensed mb-0 mt-1 Link--primary\">Babel</p>,\n",
       " <p class=\"f3 lh-condensed mb-0 mt-1 Link--primary\">Bash</p>,\n",
       " <p class=\"f3 lh-condensed mb-0 mt-1 Link--primary\">Bitcoin</p>,\n",
       " <p class=\"f3 lh-condensed mb-0 mt-1 Link--primary\">Bootstrap</p>,\n",
       " <p class=\"f3 lh-condensed mb-0 mt-1 Link--primary\">Bot</p>,\n",
       " <p class=\"f3 lh-condensed mb-0 mt-1 Link--primary\">C</p>,\n",
       " <p class=\"f3 lh-condensed mb-0 mt-1 Link--primary\">Chrome</p>,\n",
       " <p class=\"f3 lh-condensed mb-0 mt-1 Link--primary\">Chrome extension</p>,\n",
       " <p class=\"f3 lh-condensed mb-0 mt-1 Link--primary\">Command line interface</p>,\n",
       " <p class=\"f3 lh-condensed mb-0 mt-1 Link--primary\">Clojure</p>,\n",
       " <p class=\"f3 lh-condensed mb-0 mt-1 Link--primary\">Code quality</p>,\n",
       " <p class=\"f3 lh-condensed mb-0 mt-1 Link--primary\">Code review</p>,\n",
       " <p class=\"f3 lh-condensed mb-0 mt-1 Link--primary\">Compiler</p>,\n",
       " <p class=\"f3 lh-condensed mb-0 mt-1 Link--primary\">Continuous integration</p>,\n",
       " <p class=\"f3 lh-condensed mb-0 mt-1 Link--primary\">COVID-19</p>,\n",
       " <p class=\"f3 lh-condensed mb-0 mt-1 Link--primary\">C++</p>]"
      ]
     },
     "execution_count": 13,
     "metadata": {},
     "output_type": "execute_result"
    }
   ],
   "source": [
    "title_tags"
   ]
  },
  {
   "cell_type": "code",
   "execution_count": 14,
   "id": "2cd24000",
   "metadata": {},
   "outputs": [
    {
     "data": {
      "text/plain": [
       "30"
      ]
     },
     "execution_count": 14,
     "metadata": {},
     "output_type": "execute_result"
    }
   ],
   "source": [
    "len(title_tags)"
   ]
  },
  {
   "cell_type": "markdown",
   "id": "d65342f9",
   "metadata": {},
   "source": [
    "#### Creating a list that will contain title"
   ]
  },
  {
   "cell_type": "code",
   "execution_count": 45,
   "id": "415fad2d",
   "metadata": {},
   "outputs": [
    {
     "data": {
      "text/plain": [
       "['3D',\n",
       " 'Ajax',\n",
       " 'Algorithm',\n",
       " 'Amp',\n",
       " 'Android',\n",
       " 'Angular',\n",
       " 'Ansible',\n",
       " 'API',\n",
       " 'Arduino',\n",
       " 'ASP.NET',\n",
       " 'Atom',\n",
       " 'Awesome Lists',\n",
       " 'Amazon Web Services',\n",
       " 'Azure',\n",
       " 'Babel',\n",
       " 'Bash',\n",
       " 'Bitcoin',\n",
       " 'Bootstrap',\n",
       " 'Bot',\n",
       " 'C',\n",
       " 'Chrome',\n",
       " 'Chrome extension',\n",
       " 'Command line interface',\n",
       " 'Clojure',\n",
       " 'Code quality',\n",
       " 'Code review',\n",
       " 'Compiler',\n",
       " 'Continuous integration',\n",
       " 'COVID-19',\n",
       " 'C++']"
      ]
     },
     "execution_count": 45,
     "metadata": {},
     "output_type": "execute_result"
    }
   ],
   "source": [
    "topic_title_list = [title_tag.text for title_tag in title_tags]\n",
    "topic_title_list"
   ]
  },
  {
   "cell_type": "markdown",
   "id": "f6274368",
   "metadata": {},
   "source": [
    "#### Topic description tags"
   ]
  },
  {
   "cell_type": "code",
   "execution_count": 15,
   "id": "601f03e3",
   "metadata": {},
   "outputs": [],
   "source": [
    "description_class = 'f5 color-fg-muted mb-0 mt-1'\n",
    "description_tags = soup.find_all('p', {'class': description_class})"
   ]
  },
  {
   "cell_type": "code",
   "execution_count": 17,
   "id": "23292bcf",
   "metadata": {},
   "outputs": [
    {
     "data": {
      "text/plain": [
       "[<p class=\"f5 color-fg-muted mb-0 mt-1\">\n",
       "           3D refers to the use of three-dimensional graphics, modeling, and animation in various industries.\n",
       "         </p>,\n",
       " <p class=\"f5 color-fg-muted mb-0 mt-1\">\n",
       "           Ajax is a technique for creating interactive web applications.\n",
       "         </p>,\n",
       " <p class=\"f5 color-fg-muted mb-0 mt-1\">\n",
       "           Algorithms are self-contained sequences that carry out a variety of tasks.\n",
       "         </p>,\n",
       " <p class=\"f5 color-fg-muted mb-0 mt-1\">\n",
       "           Amp is a non-blocking concurrency library for PHP.\n",
       "         </p>,\n",
       " <p class=\"f5 color-fg-muted mb-0 mt-1\">\n",
       "           Android is an operating system built by Google designed for mobile devices.\n",
       "         </p>]"
      ]
     },
     "execution_count": 17,
     "metadata": {},
     "output_type": "execute_result"
    }
   ],
   "source": [
    "description_tags[:5]"
   ]
  },
  {
   "cell_type": "code",
   "execution_count": 18,
   "id": "6f6b34ab",
   "metadata": {},
   "outputs": [
    {
     "data": {
      "text/plain": [
       "30"
      ]
     },
     "execution_count": 18,
     "metadata": {},
     "output_type": "execute_result"
    }
   ],
   "source": [
    "len(description_tags)"
   ]
  },
  {
   "cell_type": "markdown",
   "id": "b14af161",
   "metadata": {},
   "source": [
    "#### Topic Link tags"
   ]
  },
  {
   "cell_type": "code",
   "execution_count": 19,
   "id": "eac45a82",
   "metadata": {},
   "outputs": [],
   "source": [
    "anchor_class = 'no-underline flex-1 d-flex flex-column' \n",
    "anchor_tags = soup.find_all('a', {'class': anchor_class})"
   ]
  },
  {
   "cell_type": "code",
   "execution_count": 20,
   "id": "19c76050",
   "metadata": {},
   "outputs": [
    {
     "data": {
      "text/plain": [
       "[<a class=\"no-underline flex-1 d-flex flex-column\" href=\"/topics/3d\">\n",
       " <p class=\"f3 lh-condensed mb-0 mt-1 Link--primary\">3D</p>\n",
       " <p class=\"f5 color-fg-muted mb-0 mt-1\">\n",
       "           3D refers to the use of three-dimensional graphics, modeling, and animation in various industries.\n",
       "         </p>\n",
       " </a>,\n",
       " <a class=\"no-underline flex-1 d-flex flex-column\" href=\"/topics/ajax\">\n",
       " <p class=\"f3 lh-condensed mb-0 mt-1 Link--primary\">Ajax</p>\n",
       " <p class=\"f5 color-fg-muted mb-0 mt-1\">\n",
       "           Ajax is a technique for creating interactive web applications.\n",
       "         </p>\n",
       " </a>,\n",
       " <a class=\"no-underline flex-1 d-flex flex-column\" href=\"/topics/algorithm\">\n",
       " <p class=\"f3 lh-condensed mb-0 mt-1 Link--primary\">Algorithm</p>\n",
       " <p class=\"f5 color-fg-muted mb-0 mt-1\">\n",
       "           Algorithms are self-contained sequences that carry out a variety of tasks.\n",
       "         </p>\n",
       " </a>,\n",
       " <a class=\"no-underline flex-1 d-flex flex-column\" href=\"/topics/amphp\">\n",
       " <p class=\"f3 lh-condensed mb-0 mt-1 Link--primary\">Amp</p>\n",
       " <p class=\"f5 color-fg-muted mb-0 mt-1\">\n",
       "           Amp is a non-blocking concurrency library for PHP.\n",
       "         </p>\n",
       " </a>,\n",
       " <a class=\"no-underline flex-1 d-flex flex-column\" href=\"/topics/android\">\n",
       " <p class=\"f3 lh-condensed mb-0 mt-1 Link--primary\">Android</p>\n",
       " <p class=\"f5 color-fg-muted mb-0 mt-1\">\n",
       "           Android is an operating system built by Google designed for mobile devices.\n",
       "         </p>\n",
       " </a>]"
      ]
     },
     "execution_count": 20,
     "metadata": {},
     "output_type": "execute_result"
    }
   ],
   "source": [
    "anchor_tags[:5]"
   ]
  },
  {
   "cell_type": "markdown",
   "id": "f0db8430",
   "metadata": {},
   "source": [
    "#### Creating list that will contain topics links"
   ]
  },
  {
   "cell_type": "code",
   "execution_count": 33,
   "id": "5ba712a6",
   "metadata": {},
   "outputs": [],
   "source": [
    "topic_link_list = []\n",
    "for anchor in  anchor_tags:\n",
    "    base_url = 'https://github.com'\n",
    "    topic_url = base_url + anchor.get('href')\n",
    "    topic_link_list.append(topic_url)\n"
   ]
  },
  {
   "cell_type": "code",
   "execution_count": 34,
   "id": "6599c486",
   "metadata": {},
   "outputs": [
    {
     "name": "stdout",
     "output_type": "stream",
     "text": [
      "['https://github.com/topics/3d', 'https://github.com/topics/ajax', 'https://github.com/topics/algorithm', 'https://github.com/topics/amphp', 'https://github.com/topics/android', 'https://github.com/topics/angular', 'https://github.com/topics/ansible', 'https://github.com/topics/api', 'https://github.com/topics/arduino', 'https://github.com/topics/aspnet', 'https://github.com/topics/atom', 'https://github.com/topics/awesome', 'https://github.com/topics/aws', 'https://github.com/topics/azure', 'https://github.com/topics/babel', 'https://github.com/topics/bash', 'https://github.com/topics/bitcoin', 'https://github.com/topics/bootstrap', 'https://github.com/topics/bot', 'https://github.com/topics/c', 'https://github.com/topics/chrome', 'https://github.com/topics/chrome-extension', 'https://github.com/topics/cli', 'https://github.com/topics/clojure', 'https://github.com/topics/code-quality', 'https://github.com/topics/code-review', 'https://github.com/topics/compiler', 'https://github.com/topics/continuous-integration', 'https://github.com/topics/covid-19', 'https://github.com/topics/cpp']\n"
     ]
    }
   ],
   "source": [
    "print(topic_link_list)"
   ]
  },
  {
   "cell_type": "code",
   "execution_count": 27,
   "id": "401538e2",
   "metadata": {},
   "outputs": [],
   "source": [
    "url = 'https://github.com'+anchor_tags[0]['href']"
   ]
  },
  {
   "cell_type": "code",
   "execution_count": 29,
   "id": "4a2ed3c1",
   "metadata": {},
   "outputs": [
    {
     "name": "stdout",
     "output_type": "stream",
     "text": [
      "https://github.com/topics/3d\n"
     ]
    }
   ],
   "source": [
    "print(url)"
   ]
  },
  {
   "cell_type": "markdown",
   "id": "a7e880a8",
   "metadata": {},
   "source": [
    "#### Topic description tags"
   ]
  },
  {
   "cell_type": "code",
   "execution_count": 37,
   "id": "dea1ac96",
   "metadata": {},
   "outputs": [],
   "source": [
    "topic_description_class = 'f5 color-fg-muted mb-0 mt-1'\n",
    "topic_description_tags = soup.find_all('p', {'class': topic_description_class})"
   ]
  },
  {
   "cell_type": "code",
   "execution_count": 42,
   "id": "67e31435",
   "metadata": {},
   "outputs": [
    {
     "data": {
      "text/plain": [
       "[<p class=\"f5 color-fg-muted mb-0 mt-1\">\n",
       "           3D refers to the use of three-dimensional graphics, modeling, and animation in various industries.\n",
       "         </p>,\n",
       " <p class=\"f5 color-fg-muted mb-0 mt-1\">\n",
       "           Ajax is a technique for creating interactive web applications.\n",
       "         </p>,\n",
       " <p class=\"f5 color-fg-muted mb-0 mt-1\">\n",
       "           Algorithms are self-contained sequences that carry out a variety of tasks.\n",
       "         </p>,\n",
       " <p class=\"f5 color-fg-muted mb-0 mt-1\">\n",
       "           Amp is a non-blocking concurrency library for PHP.\n",
       "         </p>,\n",
       " <p class=\"f5 color-fg-muted mb-0 mt-1\">\n",
       "           Android is an operating system built by Google designed for mobile devices.\n",
       "         </p>]"
      ]
     },
     "execution_count": 42,
     "metadata": {},
     "output_type": "execute_result"
    }
   ],
   "source": [
    "topic_description_tags[:5]"
   ]
  },
  {
   "cell_type": "code",
   "execution_count": 39,
   "id": "88449ca5",
   "metadata": {},
   "outputs": [
    {
     "data": {
      "text/plain": [
       "30"
      ]
     },
     "execution_count": 39,
     "metadata": {},
     "output_type": "execute_result"
    }
   ],
   "source": [
    "len(topic_description_tags)"
   ]
  },
  {
   "cell_type": "markdown",
   "id": "70627155",
   "metadata": {},
   "source": [
    "#### Creating a list that will contain topic description"
   ]
  },
  {
   "cell_type": "code",
   "execution_count": 41,
   "id": "d0856044",
   "metadata": {},
   "outputs": [
    {
     "name": "stdout",
     "output_type": "stream",
     "text": [
      "['3D refers to the use of three-dimensional graphics, modeling, and animation in various industries.', 'Ajax is a technique for creating interactive web applications.', 'Algorithms are self-contained sequences that carry out a variety of tasks.', 'Amp is a non-blocking concurrency library for PHP.', 'Android is an operating system built by Google designed for mobile devices.', 'Angular is an open source web application platform.', 'Ansible is a simple and powerful automation engine.', 'An API (Application Programming Interface) is a collection of protocols and subroutines for building software.', 'Arduino is an open source platform for building electronic devices.', 'ASP.NET is a web framework for building modern web apps and services.', 'Atom is a open source text editor built with web technologies.', 'An awesome list is a list of awesome things curated by the community.', 'Amazon Web Services provides on-demand cloud computing platforms on a subscription basis.', 'Azure is a cloud computing service created by Microsoft.', 'Babel is a compiler for writing next generation JavaScript, today.', 'Bash is a shell and command language interpreter for the GNU operating system.', 'Bitcoin is a cryptocurrency developed by Satoshi Nakamoto.', 'Bootstrap is an HTML, CSS, and JavaScript framework.', 'A bot is an application that runs automated tasks over the Internet.', 'C is a general purpose programming language that first appeared in 1972.', 'Chrome is a web browser from the tech company Google.', 'Chrome extensions enable users to customize the Chrome browsing experience.', 'A CLI, or command-line interface, is a console that helps users issue commands to a program.', 'Clojure is a dynamic, general-purpose programming language.', 'Automate your code review with style, quality, security, and test‑coverage checks when you need them.', 'Ensure your code meets quality standards and ship with confidence.', 'Compilers are software that translate higher-level programming languages to lower-level languages (e.g. machine code).', 'Automatically build and test your code as you push it upstream, preventing bugs from being deployed to production.', 'The coronavirus disease 2019 (COVID-19) is an infectious disease caused by SARS-CoV-2.', 'C++ is a general purpose and object-oriented programming language.']\n"
     ]
    }
   ],
   "source": [
    "topic_desc_list = []\n",
    "for topic_description_tag in topic_description_tags:\n",
    "    topic_desc_list.append(topic_description_tag.text.strip())\n",
    "print(topic_desc_list)"
   ]
  },
  {
   "cell_type": "markdown",
   "id": "ee996501",
   "metadata": {},
   "source": [
    "#### Creating a list that will contain topics"
   ]
  },
  {
   "cell_type": "code",
   "execution_count": 32,
   "id": "03a01b28",
   "metadata": {},
   "outputs": [
    {
     "name": "stdout",
     "output_type": "stream",
     "text": [
      "['3D', 'Ajax', 'Algorithm', 'Amp', 'Android', 'Angular', 'Ansible', 'API', 'Arduino', 'ASP.NET', 'Atom', 'Awesome Lists', 'Amazon Web Services', 'Azure', 'Babel', 'Bash', 'Bitcoin', 'Bootstrap', 'Bot', 'C', 'Chrome', 'Chrome extension', 'Command line interface', 'Clojure', 'Code quality', 'Code review', 'Compiler', 'Continuous integration', 'COVID-19', 'C++']\n"
     ]
    }
   ],
   "source": [
    "topic_title_list = []\n",
    "for title_tag in title_tags:\n",
    "    topic_title_list.append(title_tag.text)\n",
    "print(topic_title_list)"
   ]
  },
  {
   "cell_type": "markdown",
   "id": "2418e6a9",
   "metadata": {},
   "source": [
    "#### NOW CREATING A DATAFRAME THAT WILL CONTAINS ALL THE ITEMS: TOPIC_TITLES, TOPIC_DESC, TOPIC_LINK"
   ]
  },
  {
   "cell_type": "code",
   "execution_count": 46,
   "id": "fb3401ff",
   "metadata": {},
   "outputs": [],
   "source": [
    "dict = {'Topic Name': topic_title_list, 'Topic Description': topic_desc_list, 'Topic Links': topic_link_list}"
   ]
  },
  {
   "cell_type": "code",
   "execution_count": 48,
   "id": "e2829311",
   "metadata": {},
   "outputs": [],
   "source": [
    "topics_df = pd.DataFrame(dict)"
   ]
  },
  {
   "cell_type": "code",
   "execution_count": 49,
   "id": "75cf4fdd",
   "metadata": {},
   "outputs": [
    {
     "data": {
      "text/html": [
       "<div>\n",
       "<style scoped>\n",
       "    .dataframe tbody tr th:only-of-type {\n",
       "        vertical-align: middle;\n",
       "    }\n",
       "\n",
       "    .dataframe tbody tr th {\n",
       "        vertical-align: top;\n",
       "    }\n",
       "\n",
       "    .dataframe thead th {\n",
       "        text-align: right;\n",
       "    }\n",
       "</style>\n",
       "<table border=\"1\" class=\"dataframe\">\n",
       "  <thead>\n",
       "    <tr style=\"text-align: right;\">\n",
       "      <th></th>\n",
       "      <th>Topic Name</th>\n",
       "      <th>Topic Description</th>\n",
       "      <th>Topic Links</th>\n",
       "    </tr>\n",
       "  </thead>\n",
       "  <tbody>\n",
       "    <tr>\n",
       "      <th>0</th>\n",
       "      <td>3D</td>\n",
       "      <td>3D refers to the use of three-dimensional grap...</td>\n",
       "      <td>https://github.com/topics/3d</td>\n",
       "    </tr>\n",
       "    <tr>\n",
       "      <th>1</th>\n",
       "      <td>Ajax</td>\n",
       "      <td>Ajax is a technique for creating interactive w...</td>\n",
       "      <td>https://github.com/topics/ajax</td>\n",
       "    </tr>\n",
       "    <tr>\n",
       "      <th>2</th>\n",
       "      <td>Algorithm</td>\n",
       "      <td>Algorithms are self-contained sequences that c...</td>\n",
       "      <td>https://github.com/topics/algorithm</td>\n",
       "    </tr>\n",
       "    <tr>\n",
       "      <th>3</th>\n",
       "      <td>Amp</td>\n",
       "      <td>Amp is a non-blocking concurrency library for ...</td>\n",
       "      <td>https://github.com/topics/amphp</td>\n",
       "    </tr>\n",
       "    <tr>\n",
       "      <th>4</th>\n",
       "      <td>Android</td>\n",
       "      <td>Android is an operating system built by Google...</td>\n",
       "      <td>https://github.com/topics/android</td>\n",
       "    </tr>\n",
       "    <tr>\n",
       "      <th>5</th>\n",
       "      <td>Angular</td>\n",
       "      <td>Angular is an open source web application plat...</td>\n",
       "      <td>https://github.com/topics/angular</td>\n",
       "    </tr>\n",
       "    <tr>\n",
       "      <th>6</th>\n",
       "      <td>Ansible</td>\n",
       "      <td>Ansible is a simple and powerful automation en...</td>\n",
       "      <td>https://github.com/topics/ansible</td>\n",
       "    </tr>\n",
       "    <tr>\n",
       "      <th>7</th>\n",
       "      <td>API</td>\n",
       "      <td>An API (Application Programming Interface) is ...</td>\n",
       "      <td>https://github.com/topics/api</td>\n",
       "    </tr>\n",
       "    <tr>\n",
       "      <th>8</th>\n",
       "      <td>Arduino</td>\n",
       "      <td>Arduino is an open source platform for buildin...</td>\n",
       "      <td>https://github.com/topics/arduino</td>\n",
       "    </tr>\n",
       "    <tr>\n",
       "      <th>9</th>\n",
       "      <td>ASP.NET</td>\n",
       "      <td>ASP.NET is a web framework for building modern...</td>\n",
       "      <td>https://github.com/topics/aspnet</td>\n",
       "    </tr>\n",
       "    <tr>\n",
       "      <th>10</th>\n",
       "      <td>Atom</td>\n",
       "      <td>Atom is a open source text editor built with w...</td>\n",
       "      <td>https://github.com/topics/atom</td>\n",
       "    </tr>\n",
       "    <tr>\n",
       "      <th>11</th>\n",
       "      <td>Awesome Lists</td>\n",
       "      <td>An awesome list is a list of awesome things cu...</td>\n",
       "      <td>https://github.com/topics/awesome</td>\n",
       "    </tr>\n",
       "    <tr>\n",
       "      <th>12</th>\n",
       "      <td>Amazon Web Services</td>\n",
       "      <td>Amazon Web Services provides on-demand cloud c...</td>\n",
       "      <td>https://github.com/topics/aws</td>\n",
       "    </tr>\n",
       "    <tr>\n",
       "      <th>13</th>\n",
       "      <td>Azure</td>\n",
       "      <td>Azure is a cloud computing service created by ...</td>\n",
       "      <td>https://github.com/topics/azure</td>\n",
       "    </tr>\n",
       "    <tr>\n",
       "      <th>14</th>\n",
       "      <td>Babel</td>\n",
       "      <td>Babel is a compiler for writing next generatio...</td>\n",
       "      <td>https://github.com/topics/babel</td>\n",
       "    </tr>\n",
       "    <tr>\n",
       "      <th>15</th>\n",
       "      <td>Bash</td>\n",
       "      <td>Bash is a shell and command language interpret...</td>\n",
       "      <td>https://github.com/topics/bash</td>\n",
       "    </tr>\n",
       "    <tr>\n",
       "      <th>16</th>\n",
       "      <td>Bitcoin</td>\n",
       "      <td>Bitcoin is a cryptocurrency developed by Satos...</td>\n",
       "      <td>https://github.com/topics/bitcoin</td>\n",
       "    </tr>\n",
       "    <tr>\n",
       "      <th>17</th>\n",
       "      <td>Bootstrap</td>\n",
       "      <td>Bootstrap is an HTML, CSS, and JavaScript fram...</td>\n",
       "      <td>https://github.com/topics/bootstrap</td>\n",
       "    </tr>\n",
       "    <tr>\n",
       "      <th>18</th>\n",
       "      <td>Bot</td>\n",
       "      <td>A bot is an application that runs automated ta...</td>\n",
       "      <td>https://github.com/topics/bot</td>\n",
       "    </tr>\n",
       "    <tr>\n",
       "      <th>19</th>\n",
       "      <td>C</td>\n",
       "      <td>C is a general purpose programming language th...</td>\n",
       "      <td>https://github.com/topics/c</td>\n",
       "    </tr>\n",
       "    <tr>\n",
       "      <th>20</th>\n",
       "      <td>Chrome</td>\n",
       "      <td>Chrome is a web browser from the tech company ...</td>\n",
       "      <td>https://github.com/topics/chrome</td>\n",
       "    </tr>\n",
       "    <tr>\n",
       "      <th>21</th>\n",
       "      <td>Chrome extension</td>\n",
       "      <td>Chrome extensions enable users to customize th...</td>\n",
       "      <td>https://github.com/topics/chrome-extension</td>\n",
       "    </tr>\n",
       "    <tr>\n",
       "      <th>22</th>\n",
       "      <td>Command line interface</td>\n",
       "      <td>A CLI, or command-line interface, is a console...</td>\n",
       "      <td>https://github.com/topics/cli</td>\n",
       "    </tr>\n",
       "    <tr>\n",
       "      <th>23</th>\n",
       "      <td>Clojure</td>\n",
       "      <td>Clojure is a dynamic, general-purpose programm...</td>\n",
       "      <td>https://github.com/topics/clojure</td>\n",
       "    </tr>\n",
       "    <tr>\n",
       "      <th>24</th>\n",
       "      <td>Code quality</td>\n",
       "      <td>Automate your code review with style, quality,...</td>\n",
       "      <td>https://github.com/topics/code-quality</td>\n",
       "    </tr>\n",
       "    <tr>\n",
       "      <th>25</th>\n",
       "      <td>Code review</td>\n",
       "      <td>Ensure your code meets quality standards and s...</td>\n",
       "      <td>https://github.com/topics/code-review</td>\n",
       "    </tr>\n",
       "    <tr>\n",
       "      <th>26</th>\n",
       "      <td>Compiler</td>\n",
       "      <td>Compilers are software that translate higher-l...</td>\n",
       "      <td>https://github.com/topics/compiler</td>\n",
       "    </tr>\n",
       "    <tr>\n",
       "      <th>27</th>\n",
       "      <td>Continuous integration</td>\n",
       "      <td>Automatically build and test your code as you ...</td>\n",
       "      <td>https://github.com/topics/continuous-integration</td>\n",
       "    </tr>\n",
       "    <tr>\n",
       "      <th>28</th>\n",
       "      <td>COVID-19</td>\n",
       "      <td>The coronavirus disease 2019 (COVID-19) is an ...</td>\n",
       "      <td>https://github.com/topics/covid-19</td>\n",
       "    </tr>\n",
       "    <tr>\n",
       "      <th>29</th>\n",
       "      <td>C++</td>\n",
       "      <td>C++ is a general purpose and object-oriented p...</td>\n",
       "      <td>https://github.com/topics/cpp</td>\n",
       "    </tr>\n",
       "  </tbody>\n",
       "</table>\n",
       "</div>"
      ],
      "text/plain": [
       "                Topic Name                                  Topic Description  \\\n",
       "0                       3D  3D refers to the use of three-dimensional grap...   \n",
       "1                     Ajax  Ajax is a technique for creating interactive w...   \n",
       "2                Algorithm  Algorithms are self-contained sequences that c...   \n",
       "3                      Amp  Amp is a non-blocking concurrency library for ...   \n",
       "4                  Android  Android is an operating system built by Google...   \n",
       "5                  Angular  Angular is an open source web application plat...   \n",
       "6                  Ansible  Ansible is a simple and powerful automation en...   \n",
       "7                      API  An API (Application Programming Interface) is ...   \n",
       "8                  Arduino  Arduino is an open source platform for buildin...   \n",
       "9                  ASP.NET  ASP.NET is a web framework for building modern...   \n",
       "10                    Atom  Atom is a open source text editor built with w...   \n",
       "11           Awesome Lists  An awesome list is a list of awesome things cu...   \n",
       "12     Amazon Web Services  Amazon Web Services provides on-demand cloud c...   \n",
       "13                   Azure  Azure is a cloud computing service created by ...   \n",
       "14                   Babel  Babel is a compiler for writing next generatio...   \n",
       "15                    Bash  Bash is a shell and command language interpret...   \n",
       "16                 Bitcoin  Bitcoin is a cryptocurrency developed by Satos...   \n",
       "17               Bootstrap  Bootstrap is an HTML, CSS, and JavaScript fram...   \n",
       "18                     Bot  A bot is an application that runs automated ta...   \n",
       "19                       C  C is a general purpose programming language th...   \n",
       "20                  Chrome  Chrome is a web browser from the tech company ...   \n",
       "21        Chrome extension  Chrome extensions enable users to customize th...   \n",
       "22  Command line interface  A CLI, or command-line interface, is a console...   \n",
       "23                 Clojure  Clojure is a dynamic, general-purpose programm...   \n",
       "24            Code quality  Automate your code review with style, quality,...   \n",
       "25             Code review  Ensure your code meets quality standards and s...   \n",
       "26                Compiler  Compilers are software that translate higher-l...   \n",
       "27  Continuous integration  Automatically build and test your code as you ...   \n",
       "28                COVID-19  The coronavirus disease 2019 (COVID-19) is an ...   \n",
       "29                     C++  C++ is a general purpose and object-oriented p...   \n",
       "\n",
       "                                         Topic Links  \n",
       "0                       https://github.com/topics/3d  \n",
       "1                     https://github.com/topics/ajax  \n",
       "2                https://github.com/topics/algorithm  \n",
       "3                    https://github.com/topics/amphp  \n",
       "4                  https://github.com/topics/android  \n",
       "5                  https://github.com/topics/angular  \n",
       "6                  https://github.com/topics/ansible  \n",
       "7                      https://github.com/topics/api  \n",
       "8                  https://github.com/topics/arduino  \n",
       "9                   https://github.com/topics/aspnet  \n",
       "10                    https://github.com/topics/atom  \n",
       "11                 https://github.com/topics/awesome  \n",
       "12                     https://github.com/topics/aws  \n",
       "13                   https://github.com/topics/azure  \n",
       "14                   https://github.com/topics/babel  \n",
       "15                    https://github.com/topics/bash  \n",
       "16                 https://github.com/topics/bitcoin  \n",
       "17               https://github.com/topics/bootstrap  \n",
       "18                     https://github.com/topics/bot  \n",
       "19                       https://github.com/topics/c  \n",
       "20                  https://github.com/topics/chrome  \n",
       "21        https://github.com/topics/chrome-extension  \n",
       "22                     https://github.com/topics/cli  \n",
       "23                 https://github.com/topics/clojure  \n",
       "24            https://github.com/topics/code-quality  \n",
       "25             https://github.com/topics/code-review  \n",
       "26                https://github.com/topics/compiler  \n",
       "27  https://github.com/topics/continuous-integration  \n",
       "28                https://github.com/topics/covid-19  \n",
       "29                     https://github.com/topics/cpp  "
      ]
     },
     "execution_count": 49,
     "metadata": {},
     "output_type": "execute_result"
    }
   ],
   "source": [
    "topics_df"
   ]
  },
  {
   "cell_type": "markdown",
   "id": "1e838430",
   "metadata": {},
   "source": [
    "##### From here we can export to seperate csv file."
   ]
  },
  {
   "cell_type": "markdown",
   "id": "48eff73f",
   "metadata": {},
   "source": []
  },
  {
   "cell_type": "markdown",
   "id": "c3542510",
   "metadata": {},
   "source": []
  },
  {
   "cell_type": "markdown",
   "id": "f21e3c11",
   "metadata": {},
   "source": []
  },
  {
   "cell_type": "markdown",
   "id": "65e271ce",
   "metadata": {},
   "source": []
  },
  {
   "cell_type": "markdown",
   "id": "2d1766c4",
   "metadata": {},
   "source": []
  },
  {
   "cell_type": "markdown",
   "id": "f25ee4d7",
   "metadata": {},
   "source": [
    "#### Now get top repositories pertaining to each topic."
   ]
  },
  {
   "cell_type": "markdown",
   "id": "6e8f30b0",
   "metadata": {},
   "source": [
    "##### Let say we want to get top repos under the topic 3d"
   ]
  },
  {
   "cell_type": "code",
   "execution_count": 52,
   "id": "4e5b5945",
   "metadata": {},
   "outputs": [],
   "source": [
    "url_3d = topic_link_list[0]"
   ]
  },
  {
   "cell_type": "code",
   "execution_count": 53,
   "id": "9c3d36a4",
   "metadata": {},
   "outputs": [],
   "source": [
    "r = requests.get(url_3d)"
   ]
  },
  {
   "cell_type": "code",
   "execution_count": 54,
   "id": "6f80f9d1",
   "metadata": {},
   "outputs": [],
   "source": [
    "htmlContent = r.content"
   ]
  },
  {
   "cell_type": "code",
   "execution_count": null,
   "id": "c7e6eddb",
   "metadata": {},
   "outputs": [],
   "source": [
    "htmlContent"
   ]
  },
  {
   "cell_type": "code",
   "execution_count": 56,
   "id": "f211a4ca",
   "metadata": {},
   "outputs": [],
   "source": [
    "soup = BeautifulSoup(htmlContent, 'html.parser')"
   ]
  },
  {
   "cell_type": "code",
   "execution_count": null,
   "id": "635ba00b",
   "metadata": {},
   "outputs": [],
   "source": [
    "print(soup)"
   ]
  },
  {
   "cell_type": "code",
   "execution_count": 58,
   "id": "48a18acb",
   "metadata": {},
   "outputs": [],
   "source": [
    "# we can save the content of the 3d page after parsing into another file\n",
    "with open('3d_content.html', 'w', encoding='utf-8') as f:\n",
    "    f.write(r.text)"
   ]
  },
  {
   "cell_type": "markdown",
   "id": "87b329ea",
   "metadata": {},
   "source": [
    "#### getting the repo tags. \n",
    "###### Info to be covered for each repo: Name of repo, username, link, stars"
   ]
  },
  {
   "cell_type": "code",
   "execution_count": 59,
   "id": "8f0a6b66",
   "metadata": {},
   "outputs": [],
   "source": [
    "repo_class = 'f3 color-fg-muted text-normal lh-condensed'\n",
    "repo_tags = soup.find_all('h3', {'class': repo_class})"
   ]
  },
  {
   "cell_type": "code",
   "execution_count": 60,
   "id": "d8446778",
   "metadata": {},
   "outputs": [
    {
     "data": {
      "text/plain": [
       "[<h3 class=\"f3 color-fg-muted text-normal lh-condensed\">\n",
       " <a data-hydro-click='{\"event_type\":\"explore.click\",\"payload\":{\"click_context\":\"REPOSITORY_CARD\",\"click_target\":\"OWNER\",\"click_visual_representation\":\"REPOSITORY_OWNER_HEADING\",\"actor_id\":null,\"record_id\":97088,\"originating_url\":\"https://github.com/topics/3d\",\"user_id\":null}}' data-hydro-click-hmac=\"4bdbc49d3c05ae7f70b531fbce709a384200b0768554e0172950286a8db30940\" data-turbo=\"false\" data-view-component=\"true\" href=\"/mrdoob\">\n",
       "             mrdoob\n",
       " </a>          /\n",
       "           <a class=\"text-bold wb-break-word\" data-hydro-click='{\"event_type\":\"explore.click\",\"payload\":{\"click_context\":\"REPOSITORY_CARD\",\"click_target\":\"REPOSITORY\",\"click_visual_representation\":\"REPOSITORY_NAME_HEADING\",\"actor_id\":null,\"record_id\":576201,\"originating_url\":\"https://github.com/topics/3d\",\"user_id\":null}}' data-hydro-click-hmac=\"517d3d5cb9d89752156923904a4238816bc9b51ab7772f3e3644ce897d8dd4e5\" data-turbo=\"false\" data-view-component=\"true\" href=\"/mrdoob/three.js\">\n",
       "             three.js\n",
       " </a> </h3>,\n",
       " <h3 class=\"f3 color-fg-muted text-normal lh-condensed\">\n",
       " <a data-hydro-click='{\"event_type\":\"explore.click\",\"payload\":{\"click_context\":\"REPOSITORY_CARD\",\"click_target\":\"OWNER\",\"click_visual_representation\":\"REPOSITORY_OWNER_HEADING\",\"actor_id\":null,\"record_id\":45790596,\"originating_url\":\"https://github.com/topics/3d\",\"user_id\":null}}' data-hydro-click-hmac=\"14658fab6217ec4ba70f16dd98006d4334793fae49cc25ce2e1c0bb5a8950006\" data-turbo=\"false\" data-view-component=\"true\" href=\"/pmndrs\">\n",
       "             pmndrs\n",
       " </a>          /\n",
       "           <a class=\"text-bold wb-break-word\" data-hydro-click='{\"event_type\":\"explore.click\",\"payload\":{\"click_context\":\"REPOSITORY_CARD\",\"click_target\":\"REPOSITORY\",\"click_visual_representation\":\"REPOSITORY_NAME_HEADING\",\"actor_id\":null,\"record_id\":172521926,\"originating_url\":\"https://github.com/topics/3d\",\"user_id\":null}}' data-hydro-click-hmac=\"629be4efc1260d27fe29201a1901eb808cbf995e4a51d877282b7164242dbadf\" data-turbo=\"false\" data-view-component=\"true\" href=\"/pmndrs/react-three-fiber\">\n",
       "             react-three-fiber\n",
       " </a> </h3>,\n",
       " <h3 class=\"f3 color-fg-muted text-normal lh-condensed\">\n",
       " <a data-hydro-click='{\"event_type\":\"explore.click\",\"payload\":{\"click_context\":\"REPOSITORY_CARD\",\"click_target\":\"OWNER\",\"click_visual_representation\":\"REPOSITORY_OWNER_HEADING\",\"actor_id\":null,\"record_id\":509841,\"originating_url\":\"https://github.com/topics/3d\",\"user_id\":null}}' data-hydro-click-hmac=\"760dcd7b253cb1a27d9b1a8675e86db885295be4e0d8d9fa7397adf923075d36\" data-turbo=\"false\" data-view-component=\"true\" href=\"/libgdx\">\n",
       "             libgdx\n",
       " </a>          /\n",
       "           <a class=\"text-bold wb-break-word\" data-hydro-click='{\"event_type\":\"explore.click\",\"payload\":{\"click_context\":\"REPOSITORY_CARD\",\"click_target\":\"REPOSITORY\",\"click_visual_representation\":\"REPOSITORY_NAME_HEADING\",\"actor_id\":null,\"record_id\":5373551,\"originating_url\":\"https://github.com/topics/3d\",\"user_id\":null}}' data-hydro-click-hmac=\"ff9d8fbd4b6a268d54aa44ebd06922a789e146ae9d21db01b8ba7839646f5507\" data-turbo=\"false\" data-view-component=\"true\" href=\"/libgdx/libgdx\">\n",
       "             libgdx\n",
       " </a> </h3>,\n",
       " <h3 class=\"f3 color-fg-muted text-normal lh-condensed\">\n",
       " <a data-hydro-click='{\"event_type\":\"explore.click\",\"payload\":{\"click_context\":\"REPOSITORY_CARD\",\"click_target\":\"OWNER\",\"click_visual_representation\":\"REPOSITORY_OWNER_HEADING\",\"actor_id\":null,\"record_id\":4855800,\"originating_url\":\"https://github.com/topics/3d\",\"user_id\":null}}' data-hydro-click-hmac=\"35041b8540fc503301f61f50122b6ae6d1b78719943ab6392df86920498edb30\" data-turbo=\"false\" data-view-component=\"true\" href=\"/BabylonJS\">\n",
       "             BabylonJS\n",
       " </a>          /\n",
       "           <a class=\"text-bold wb-break-word\" data-hydro-click='{\"event_type\":\"explore.click\",\"payload\":{\"click_context\":\"REPOSITORY_CARD\",\"click_target\":\"REPOSITORY\",\"click_visual_representation\":\"REPOSITORY_NAME_HEADING\",\"actor_id\":null,\"record_id\":11007313,\"originating_url\":\"https://github.com/topics/3d\",\"user_id\":null}}' data-hydro-click-hmac=\"2806ba0b1f7f4081c38662a53b466b7bc022050b5dafe4108bfab142f5214b41\" data-turbo=\"false\" data-view-component=\"true\" href=\"/BabylonJS/Babylon.js\">\n",
       "             Babylon.js\n",
       " </a> </h3>,\n",
       " <h3 class=\"f3 color-fg-muted text-normal lh-condensed\">\n",
       " <a data-hydro-click='{\"event_type\":\"explore.click\",\"payload\":{\"click_context\":\"REPOSITORY_CARD\",\"click_target\":\"OWNER\",\"click_visual_representation\":\"REPOSITORY_OWNER_HEADING\",\"actor_id\":null,\"record_id\":1029298,\"originating_url\":\"https://github.com/topics/3d\",\"user_id\":null}}' data-hydro-click-hmac=\"35cf14368807d0a0abce48667cf2c0778c4e44ceeb4edde9a860e17a9efe6443\" data-turbo=\"false\" data-view-component=\"true\" href=\"/ssloy\">\n",
       "             ssloy\n",
       " </a>          /\n",
       "           <a class=\"text-bold wb-break-word\" data-hydro-click='{\"event_type\":\"explore.click\",\"payload\":{\"click_context\":\"REPOSITORY_CARD\",\"click_target\":\"REPOSITORY\",\"click_visual_representation\":\"REPOSITORY_NAME_HEADING\",\"actor_id\":null,\"record_id\":29397594,\"originating_url\":\"https://github.com/topics/3d\",\"user_id\":null}}' data-hydro-click-hmac=\"b27b44faaea7b496d3a92fd58b20e39b4306098a16dc535f3a74969bd25fc472\" data-turbo=\"false\" data-view-component=\"true\" href=\"/ssloy/tinyrenderer\">\n",
       "             tinyrenderer\n",
       " </a> </h3>]"
      ]
     },
     "execution_count": 60,
     "metadata": {},
     "output_type": "execute_result"
    }
   ],
   "source": [
    "repo_tags[:5]"
   ]
  },
  {
   "cell_type": "code",
   "execution_count": 62,
   "id": "692a59c3",
   "metadata": {},
   "outputs": [
    {
     "data": {
      "text/plain": [
       "<h3 class=\"f3 color-fg-muted text-normal lh-condensed\">\n",
       "<a data-hydro-click='{\"event_type\":\"explore.click\",\"payload\":{\"click_context\":\"REPOSITORY_CARD\",\"click_target\":\"OWNER\",\"click_visual_representation\":\"REPOSITORY_OWNER_HEADING\",\"actor_id\":null,\"record_id\":97088,\"originating_url\":\"https://github.com/topics/3d\",\"user_id\":null}}' data-hydro-click-hmac=\"4bdbc49d3c05ae7f70b531fbce709a384200b0768554e0172950286a8db30940\" data-turbo=\"false\" data-view-component=\"true\" href=\"/mrdoob\">\n",
       "            mrdoob\n",
       "</a>          /\n",
       "          <a class=\"text-bold wb-break-word\" data-hydro-click='{\"event_type\":\"explore.click\",\"payload\":{\"click_context\":\"REPOSITORY_CARD\",\"click_target\":\"REPOSITORY\",\"click_visual_representation\":\"REPOSITORY_NAME_HEADING\",\"actor_id\":null,\"record_id\":576201,\"originating_url\":\"https://github.com/topics/3d\",\"user_id\":null}}' data-hydro-click-hmac=\"517d3d5cb9d89752156923904a4238816bc9b51ab7772f3e3644ce897d8dd4e5\" data-turbo=\"false\" data-view-component=\"true\" href=\"/mrdoob/three.js\">\n",
       "            three.js\n",
       "</a> </h3>"
      ]
     },
     "execution_count": 62,
     "metadata": {},
     "output_type": "execute_result"
    }
   ],
   "source": [
    "repo_tags[0]"
   ]
  },
  {
   "cell_type": "code",
   "execution_count": 63,
   "id": "0ffbec06",
   "metadata": {},
   "outputs": [
    {
     "data": {
      "text/plain": [
       "[<a data-hydro-click='{\"event_type\":\"explore.click\",\"payload\":{\"click_context\":\"REPOSITORY_CARD\",\"click_target\":\"OWNER\",\"click_visual_representation\":\"REPOSITORY_OWNER_HEADING\",\"actor_id\":null,\"record_id\":97088,\"originating_url\":\"https://github.com/topics/3d\",\"user_id\":null}}' data-hydro-click-hmac=\"4bdbc49d3c05ae7f70b531fbce709a384200b0768554e0172950286a8db30940\" data-turbo=\"false\" data-view-component=\"true\" href=\"/mrdoob\">\n",
       "             mrdoob\n",
       " </a>,\n",
       " <a class=\"text-bold wb-break-word\" data-hydro-click='{\"event_type\":\"explore.click\",\"payload\":{\"click_context\":\"REPOSITORY_CARD\",\"click_target\":\"REPOSITORY\",\"click_visual_representation\":\"REPOSITORY_NAME_HEADING\",\"actor_id\":null,\"record_id\":576201,\"originating_url\":\"https://github.com/topics/3d\",\"user_id\":null}}' data-hydro-click-hmac=\"517d3d5cb9d89752156923904a4238816bc9b51ab7772f3e3644ce897d8dd4e5\" data-turbo=\"false\" data-view-component=\"true\" href=\"/mrdoob/three.js\">\n",
       "             three.js\n",
       " </a>]"
      ]
     },
     "execution_count": 63,
     "metadata": {},
     "output_type": "execute_result"
    }
   ],
   "source": [
    "repo_tags[0].find_all('a')"
   ]
  },
  {
   "cell_type": "code",
   "execution_count": 68,
   "id": "abe68097",
   "metadata": {},
   "outputs": [],
   "source": [
    "a = repo_tags[0].find_all('a')"
   ]
  },
  {
   "cell_type": "code",
   "execution_count": 72,
   "id": "4a017afe",
   "metadata": {},
   "outputs": [
    {
     "data": {
      "text/plain": [
       "[<a data-hydro-click='{\"event_type\":\"explore.click\",\"payload\":{\"click_context\":\"REPOSITORY_CARD\",\"click_target\":\"OWNER\",\"click_visual_representation\":\"REPOSITORY_OWNER_HEADING\",\"actor_id\":null,\"record_id\":97088,\"originating_url\":\"https://github.com/topics/3d\",\"user_id\":null}}' data-hydro-click-hmac=\"4bdbc49d3c05ae7f70b531fbce709a384200b0768554e0172950286a8db30940\" data-turbo=\"false\" data-view-component=\"true\" href=\"/mrdoob\">\n",
       "             mrdoob\n",
       " </a>,\n",
       " <a class=\"text-bold wb-break-word\" data-hydro-click='{\"event_type\":\"explore.click\",\"payload\":{\"click_context\":\"REPOSITORY_CARD\",\"click_target\":\"REPOSITORY\",\"click_visual_representation\":\"REPOSITORY_NAME_HEADING\",\"actor_id\":null,\"record_id\":576201,\"originating_url\":\"https://github.com/topics/3d\",\"user_id\":null}}' data-hydro-click-hmac=\"517d3d5cb9d89752156923904a4238816bc9b51ab7772f3e3644ce897d8dd4e5\" data-turbo=\"false\" data-view-component=\"true\" href=\"/mrdoob/three.js\">\n",
       "             three.js\n",
       " </a>]"
      ]
     },
     "execution_count": 72,
     "metadata": {},
     "output_type": "execute_result"
    }
   ],
   "source": [
    "a"
   ]
  },
  {
   "cell_type": "markdown",
   "id": "1dc3b1ff",
   "metadata": {},
   "source": [
    "##### username of the repo"
   ]
  },
  {
   "cell_type": "code",
   "execution_count": 75,
   "id": "e8d01060",
   "metadata": {},
   "outputs": [
    {
     "data": {
      "text/plain": [
       "'mrdoob'"
      ]
     },
     "execution_count": 75,
     "metadata": {},
     "output_type": "execute_result"
    }
   ],
   "source": [
    "a[0].text.strip() #this is the username"
   ]
  },
  {
   "cell_type": "markdown",
   "id": "7a78cf55",
   "metadata": {},
   "source": [
    "##### Name of the repo"
   ]
  },
  {
   "cell_type": "code",
   "execution_count": 76,
   "id": "0433ee00",
   "metadata": {},
   "outputs": [
    {
     "data": {
      "text/plain": [
       "'three.js'"
      ]
     },
     "execution_count": 76,
     "metadata": {},
     "output_type": "execute_result"
    }
   ],
   "source": [
    "a[1].text.strip() #this is the name of the repo."
   ]
  },
  {
   "cell_type": "markdown",
   "id": "df67a507",
   "metadata": {},
   "source": [
    "##### Repo link"
   ]
  },
  {
   "cell_type": "code",
   "execution_count": 79,
   "id": "b787b95e",
   "metadata": {},
   "outputs": [
    {
     "data": {
      "text/plain": [
       "'/mrdoob/three.js'"
      ]
     },
     "execution_count": 79,
     "metadata": {},
     "output_type": "execute_result"
    }
   ],
   "source": [
    "#link of the repo\n",
    "a[1].get('href')"
   ]
  },
  {
   "cell_type": "code",
   "execution_count": 80,
   "id": "9dfa7703",
   "metadata": {},
   "outputs": [
    {
     "name": "stdout",
     "output_type": "stream",
     "text": [
      "https://github.com/mrdoob/three.js\n"
     ]
    }
   ],
   "source": [
    "base_url = 'https://github.com'\n",
    "repo_link = base_url+a[1].get('href')\n",
    "print(repo_link)"
   ]
  },
  {
   "cell_type": "markdown",
   "id": "6b1aaa2c",
   "metadata": {},
   "source": [
    "##### Stars of the repos"
   ]
  },
  {
   "cell_type": "code",
   "execution_count": 82,
   "id": "facebe11",
   "metadata": {},
   "outputs": [],
   "source": [
    "stars_id = 'repo-stars-counter-star'\n",
    "stars_id_tag = soup.find_all('span', {'id': stars_id})"
   ]
  },
  {
   "cell_type": "code",
   "execution_count": 84,
   "id": "05a4b101",
   "metadata": {},
   "outputs": [
    {
     "data": {
      "text/plain": [
       "20"
      ]
     },
     "execution_count": 84,
     "metadata": {},
     "output_type": "execute_result"
    }
   ],
   "source": [
    "len(stars_id_tag)"
   ]
  },
  {
   "cell_type": "code",
   "execution_count": 87,
   "id": "57ae0f52",
   "metadata": {},
   "outputs": [],
   "source": [
    "stars_3d = stars_id_tag[0].text"
   ]
  },
  {
   "cell_type": "code",
   "execution_count": 89,
   "id": "a9cbc3cd",
   "metadata": {},
   "outputs": [
    {
     "data": {
      "text/plain": [
       "'90.6k'"
      ]
     },
     "execution_count": 89,
     "metadata": {},
     "output_type": "execute_result"
    }
   ],
   "source": [
    "stars_3d"
   ]
  },
  {
   "cell_type": "code",
   "execution_count": 90,
   "id": "18e24702",
   "metadata": {},
   "outputs": [
    {
     "data": {
      "text/plain": [
       "'k'"
      ]
     },
     "execution_count": 90,
     "metadata": {},
     "output_type": "execute_result"
    }
   ],
   "source": [
    "stars_3d[-1]"
   ]
  },
  {
   "cell_type": "code",
   "execution_count": 91,
   "id": "b8d262e1",
   "metadata": {},
   "outputs": [
    {
     "data": {
      "text/plain": [
       "'90.6'"
      ]
     },
     "execution_count": 91,
     "metadata": {},
     "output_type": "execute_result"
    }
   ],
   "source": [
    "stars_3d[:-1]"
   ]
  },
  {
   "cell_type": "code",
   "execution_count": 88,
   "id": "ccdb1eff",
   "metadata": {},
   "outputs": [
    {
     "data": {
      "text/plain": [
       "str"
      ]
     },
     "execution_count": 88,
     "metadata": {},
     "output_type": "execute_result"
    }
   ],
   "source": [
    "type(stars_3d)"
   ]
  },
  {
   "cell_type": "code",
   "execution_count": 94,
   "id": "b2860df8",
   "metadata": {},
   "outputs": [],
   "source": [
    "# Now creating a function that will take string and convert 90.6k to 90600\n",
    "def parsing_star_count(star):\n",
    "    star = star.strip()\n",
    "    if(star[-1] == 'k'):\n",
    "        return int(float(star[:-1])*1000)"
   ]
  },
  {
   "cell_type": "code",
   "execution_count": 95,
   "id": "234d62bf",
   "metadata": {},
   "outputs": [
    {
     "data": {
      "text/plain": [
       "90600"
      ]
     },
     "execution_count": 95,
     "metadata": {},
     "output_type": "execute_result"
    }
   ],
   "source": [
    "parsing_star_count(stars_3d)"
   ]
  },
  {
   "cell_type": "markdown",
   "id": "305d1a05",
   "metadata": {},
   "source": [
    "#### Now creating a function that will fetch username, name of repo, repo link, stars count \n",
    "#### The function will take 2 arguments namely: repo tags, that will contains the list of repos under a spoecific topic and the star tags\n"
   ]
  },
  {
   "cell_type": "code",
   "execution_count": 96,
   "id": "da4d62a8",
   "metadata": {},
   "outputs": [],
   "source": [
    "def get_repo_info(repo_tags, star_tags):\n",
    "    a_tags = repo_tags.find_all('a')\n",
    "    username = a_tags[0].text.strip()\n",
    "    repo_name = a_tags[1].text.strip()\n",
    "    base_url = 'https://github.com'\n",
    "    repo_url = base_url+a_tags[1].get('href')\n",
    "    stars = parsing_star_count(star_tags.text.strip())\n",
    "    return username, repo_name, repo_url, stars"
   ]
  },
  {
   "cell_type": "code",
   "execution_count": 99,
   "id": "1e378e6c",
   "metadata": {},
   "outputs": [
    {
     "data": {
      "text/plain": [
       "('pmndrs',\n",
       " 'react-three-fiber',\n",
       " 'https://github.com/pmndrs/react-three-fiber',\n",
       " 22100)"
      ]
     },
     "execution_count": 99,
     "metadata": {},
     "output_type": "execute_result"
    }
   ],
   "source": [
    "get_repo_info(repo_tags[1], stars_id_tag[1])"
   ]
  },
  {
   "cell_type": "markdown",
   "id": "9501710f",
   "metadata": {},
   "source": [
    "##### Now we will create a dict that will contains all the repos partaining to specific topic. And will have all the info such as repo name, username, repo link,  star count"
   ]
  },
  {
   "cell_type": "code",
   "execution_count": 100,
   "id": "f2dcca2e",
   "metadata": {},
   "outputs": [
    {
     "name": "stdout",
     "output_type": "stream",
     "text": [
      "('mrdoob', 'three.js', 'https://github.com/mrdoob/three.js', 90600)\n",
      "('pmndrs', 'react-three-fiber', 'https://github.com/pmndrs/react-three-fiber', 22100)\n",
      "('libgdx', 'libgdx', 'https://github.com/libgdx/libgdx', 21300)\n",
      "('BabylonJS', 'Babylon.js', 'https://github.com/BabylonJS/Babylon.js', 19800)\n",
      "('ssloy', 'tinyrenderer', 'https://github.com/ssloy/tinyrenderer', 16600)\n",
      "('aframevr', 'aframe', 'https://github.com/aframevr/aframe', 15200)\n",
      "('lettier', '3d-game-shaders-for-beginners', 'https://github.com/lettier/3d-game-shaders-for-beginners', 14900)\n",
      "('FreeCAD', 'FreeCAD', 'https://github.com/FreeCAD/FreeCAD', 13700)\n",
      "('CesiumGS', 'cesium', 'https://github.com/CesiumGS/cesium', 10200)\n",
      "('metafizzy', 'zdog', 'https://github.com/metafizzy/zdog', 9700)\n",
      "('timzhang642', '3D-Machine-Learning', 'https://github.com/timzhang642/3D-Machine-Learning', 8800)\n",
      "('isl-org', 'Open3D', 'https://github.com/isl-org/Open3D', 8400)\n",
      "('blender', 'blender', 'https://github.com/blender/blender', 8100)\n",
      "('a1studmuffin', 'SpaceshipGenerator', 'https://github.com/a1studmuffin/SpaceshipGenerator', 7400)\n",
      "('domlysz', 'BlenderGIS', 'https://github.com/domlysz/BlenderGIS', 6200)\n",
      "('FyroxEngine', 'Fyrox', 'https://github.com/FyroxEngine/Fyrox', 6000)\n",
      "('openscad', 'openscad', 'https://github.com/openscad/openscad', 5500)\n",
      "('google', 'model-viewer', 'https://github.com/google/model-viewer', 5500)\n",
      "('spritejs', 'spritejs', 'https://github.com/spritejs/spritejs', 5200)\n",
      "('jagenjo', 'webglstudio.js', 'https://github.com/jagenjo/webglstudio.js', 4900)\n"
     ]
    }
   ],
   "source": [
    "repo_dict = {\n",
    "    'Repo Name':[],\n",
    "    'Username':[],\n",
    "    'Repo URL': [],\n",
    "    'Stars Count': []\n",
    "}\n",
    "for i in range(len(repo_tags)):\n",
    "    repo_info = get_repo_info(repo_tags[i], stars_id_tag[i])\n",
    "    print(repo_info)"
   ]
  },
  {
   "cell_type": "code",
   "execution_count": 105,
   "id": "b0ae06b4",
   "metadata": {},
   "outputs": [],
   "source": [
    "repo_dict = {\n",
    "    'Repo Name':[],\n",
    "    'Username':[],\n",
    "    'Repo URL': [],\n",
    "    'Stars Count': []\n",
    "}\n",
    "for i in range(len(repo_tags)):\n",
    "    repo_info = get_repo_info(repo_tags[i], stars_id_tag[i])\n",
    "    repo_dict['Repo Name'].append(repo_info[1])\n",
    "    repo_dict['Username'].append(repo_info[0])\n",
    "    repo_dict['Repo URL'].append(repo_info[2])\n",
    "    repo_dict['Stars Count'].append(repo_info[3])"
   ]
  },
  {
   "cell_type": "code",
   "execution_count": 106,
   "id": "383274e5",
   "metadata": {},
   "outputs": [
    {
     "data": {
      "text/plain": [
       "{'Repo Name': ['three.js',\n",
       "  'react-three-fiber',\n",
       "  'libgdx',\n",
       "  'Babylon.js',\n",
       "  'tinyrenderer',\n",
       "  'aframe',\n",
       "  '3d-game-shaders-for-beginners',\n",
       "  'FreeCAD',\n",
       "  'cesium',\n",
       "  'zdog',\n",
       "  '3D-Machine-Learning',\n",
       "  'Open3D',\n",
       "  'blender',\n",
       "  'SpaceshipGenerator',\n",
       "  'BlenderGIS',\n",
       "  'Fyrox',\n",
       "  'openscad',\n",
       "  'model-viewer',\n",
       "  'spritejs',\n",
       "  'webglstudio.js'],\n",
       " 'Username': ['mrdoob',\n",
       "  'pmndrs',\n",
       "  'libgdx',\n",
       "  'BabylonJS',\n",
       "  'ssloy',\n",
       "  'aframevr',\n",
       "  'lettier',\n",
       "  'FreeCAD',\n",
       "  'CesiumGS',\n",
       "  'metafizzy',\n",
       "  'timzhang642',\n",
       "  'isl-org',\n",
       "  'blender',\n",
       "  'a1studmuffin',\n",
       "  'domlysz',\n",
       "  'FyroxEngine',\n",
       "  'openscad',\n",
       "  'google',\n",
       "  'spritejs',\n",
       "  'jagenjo'],\n",
       " 'Repo URL': ['https://github.com/mrdoob/three.js',\n",
       "  'https://github.com/pmndrs/react-three-fiber',\n",
       "  'https://github.com/libgdx/libgdx',\n",
       "  'https://github.com/BabylonJS/Babylon.js',\n",
       "  'https://github.com/ssloy/tinyrenderer',\n",
       "  'https://github.com/aframevr/aframe',\n",
       "  'https://github.com/lettier/3d-game-shaders-for-beginners',\n",
       "  'https://github.com/FreeCAD/FreeCAD',\n",
       "  'https://github.com/CesiumGS/cesium',\n",
       "  'https://github.com/metafizzy/zdog',\n",
       "  'https://github.com/timzhang642/3D-Machine-Learning',\n",
       "  'https://github.com/isl-org/Open3D',\n",
       "  'https://github.com/blender/blender',\n",
       "  'https://github.com/a1studmuffin/SpaceshipGenerator',\n",
       "  'https://github.com/domlysz/BlenderGIS',\n",
       "  'https://github.com/FyroxEngine/Fyrox',\n",
       "  'https://github.com/openscad/openscad',\n",
       "  'https://github.com/google/model-viewer',\n",
       "  'https://github.com/spritejs/spritejs',\n",
       "  'https://github.com/jagenjo/webglstudio.js'],\n",
       " 'Stars Count': [90600,\n",
       "  22100,\n",
       "  21300,\n",
       "  19800,\n",
       "  16600,\n",
       "  15200,\n",
       "  14900,\n",
       "  13700,\n",
       "  10200,\n",
       "  9700,\n",
       "  8800,\n",
       "  8400,\n",
       "  8100,\n",
       "  7400,\n",
       "  6200,\n",
       "  6000,\n",
       "  5500,\n",
       "  5500,\n",
       "  5200,\n",
       "  4900]}"
      ]
     },
     "execution_count": 106,
     "metadata": {},
     "output_type": "execute_result"
    }
   ],
   "source": [
    "repo_dict"
   ]
  },
  {
   "cell_type": "code",
   "execution_count": 107,
   "id": "896f743e",
   "metadata": {},
   "outputs": [],
   "source": [
    "topic_repos_df = pd.DataFrame(repo_dict)"
   ]
  },
  {
   "cell_type": "code",
   "execution_count": 108,
   "id": "f43fefb4",
   "metadata": {},
   "outputs": [
    {
     "data": {
      "text/html": [
       "<div>\n",
       "<style scoped>\n",
       "    .dataframe tbody tr th:only-of-type {\n",
       "        vertical-align: middle;\n",
       "    }\n",
       "\n",
       "    .dataframe tbody tr th {\n",
       "        vertical-align: top;\n",
       "    }\n",
       "\n",
       "    .dataframe thead th {\n",
       "        text-align: right;\n",
       "    }\n",
       "</style>\n",
       "<table border=\"1\" class=\"dataframe\">\n",
       "  <thead>\n",
       "    <tr style=\"text-align: right;\">\n",
       "      <th></th>\n",
       "      <th>Repo Name</th>\n",
       "      <th>Username</th>\n",
       "      <th>Repo URL</th>\n",
       "      <th>Stars Count</th>\n",
       "    </tr>\n",
       "  </thead>\n",
       "  <tbody>\n",
       "    <tr>\n",
       "      <th>0</th>\n",
       "      <td>three.js</td>\n",
       "      <td>mrdoob</td>\n",
       "      <td>https://github.com/mrdoob/three.js</td>\n",
       "      <td>90600</td>\n",
       "    </tr>\n",
       "    <tr>\n",
       "      <th>1</th>\n",
       "      <td>react-three-fiber</td>\n",
       "      <td>pmndrs</td>\n",
       "      <td>https://github.com/pmndrs/react-three-fiber</td>\n",
       "      <td>22100</td>\n",
       "    </tr>\n",
       "    <tr>\n",
       "      <th>2</th>\n",
       "      <td>libgdx</td>\n",
       "      <td>libgdx</td>\n",
       "      <td>https://github.com/libgdx/libgdx</td>\n",
       "      <td>21300</td>\n",
       "    </tr>\n",
       "    <tr>\n",
       "      <th>3</th>\n",
       "      <td>Babylon.js</td>\n",
       "      <td>BabylonJS</td>\n",
       "      <td>https://github.com/BabylonJS/Babylon.js</td>\n",
       "      <td>19800</td>\n",
       "    </tr>\n",
       "    <tr>\n",
       "      <th>4</th>\n",
       "      <td>tinyrenderer</td>\n",
       "      <td>ssloy</td>\n",
       "      <td>https://github.com/ssloy/tinyrenderer</td>\n",
       "      <td>16600</td>\n",
       "    </tr>\n",
       "    <tr>\n",
       "      <th>5</th>\n",
       "      <td>aframe</td>\n",
       "      <td>aframevr</td>\n",
       "      <td>https://github.com/aframevr/aframe</td>\n",
       "      <td>15200</td>\n",
       "    </tr>\n",
       "    <tr>\n",
       "      <th>6</th>\n",
       "      <td>3d-game-shaders-for-beginners</td>\n",
       "      <td>lettier</td>\n",
       "      <td>https://github.com/lettier/3d-game-shaders-for...</td>\n",
       "      <td>14900</td>\n",
       "    </tr>\n",
       "    <tr>\n",
       "      <th>7</th>\n",
       "      <td>FreeCAD</td>\n",
       "      <td>FreeCAD</td>\n",
       "      <td>https://github.com/FreeCAD/FreeCAD</td>\n",
       "      <td>13700</td>\n",
       "    </tr>\n",
       "    <tr>\n",
       "      <th>8</th>\n",
       "      <td>cesium</td>\n",
       "      <td>CesiumGS</td>\n",
       "      <td>https://github.com/CesiumGS/cesium</td>\n",
       "      <td>10200</td>\n",
       "    </tr>\n",
       "    <tr>\n",
       "      <th>9</th>\n",
       "      <td>zdog</td>\n",
       "      <td>metafizzy</td>\n",
       "      <td>https://github.com/metafizzy/zdog</td>\n",
       "      <td>9700</td>\n",
       "    </tr>\n",
       "    <tr>\n",
       "      <th>10</th>\n",
       "      <td>3D-Machine-Learning</td>\n",
       "      <td>timzhang642</td>\n",
       "      <td>https://github.com/timzhang642/3D-Machine-Lear...</td>\n",
       "      <td>8800</td>\n",
       "    </tr>\n",
       "    <tr>\n",
       "      <th>11</th>\n",
       "      <td>Open3D</td>\n",
       "      <td>isl-org</td>\n",
       "      <td>https://github.com/isl-org/Open3D</td>\n",
       "      <td>8400</td>\n",
       "    </tr>\n",
       "    <tr>\n",
       "      <th>12</th>\n",
       "      <td>blender</td>\n",
       "      <td>blender</td>\n",
       "      <td>https://github.com/blender/blender</td>\n",
       "      <td>8100</td>\n",
       "    </tr>\n",
       "    <tr>\n",
       "      <th>13</th>\n",
       "      <td>SpaceshipGenerator</td>\n",
       "      <td>a1studmuffin</td>\n",
       "      <td>https://github.com/a1studmuffin/SpaceshipGener...</td>\n",
       "      <td>7400</td>\n",
       "    </tr>\n",
       "    <tr>\n",
       "      <th>14</th>\n",
       "      <td>BlenderGIS</td>\n",
       "      <td>domlysz</td>\n",
       "      <td>https://github.com/domlysz/BlenderGIS</td>\n",
       "      <td>6200</td>\n",
       "    </tr>\n",
       "    <tr>\n",
       "      <th>15</th>\n",
       "      <td>Fyrox</td>\n",
       "      <td>FyroxEngine</td>\n",
       "      <td>https://github.com/FyroxEngine/Fyrox</td>\n",
       "      <td>6000</td>\n",
       "    </tr>\n",
       "    <tr>\n",
       "      <th>16</th>\n",
       "      <td>openscad</td>\n",
       "      <td>openscad</td>\n",
       "      <td>https://github.com/openscad/openscad</td>\n",
       "      <td>5500</td>\n",
       "    </tr>\n",
       "    <tr>\n",
       "      <th>17</th>\n",
       "      <td>model-viewer</td>\n",
       "      <td>google</td>\n",
       "      <td>https://github.com/google/model-viewer</td>\n",
       "      <td>5500</td>\n",
       "    </tr>\n",
       "    <tr>\n",
       "      <th>18</th>\n",
       "      <td>spritejs</td>\n",
       "      <td>spritejs</td>\n",
       "      <td>https://github.com/spritejs/spritejs</td>\n",
       "      <td>5200</td>\n",
       "    </tr>\n",
       "    <tr>\n",
       "      <th>19</th>\n",
       "      <td>webglstudio.js</td>\n",
       "      <td>jagenjo</td>\n",
       "      <td>https://github.com/jagenjo/webglstudio.js</td>\n",
       "      <td>4900</td>\n",
       "    </tr>\n",
       "  </tbody>\n",
       "</table>\n",
       "</div>"
      ],
      "text/plain": [
       "                        Repo Name      Username  \\\n",
       "0                        three.js        mrdoob   \n",
       "1               react-three-fiber        pmndrs   \n",
       "2                          libgdx        libgdx   \n",
       "3                      Babylon.js     BabylonJS   \n",
       "4                    tinyrenderer         ssloy   \n",
       "5                          aframe      aframevr   \n",
       "6   3d-game-shaders-for-beginners       lettier   \n",
       "7                         FreeCAD       FreeCAD   \n",
       "8                          cesium      CesiumGS   \n",
       "9                            zdog     metafizzy   \n",
       "10            3D-Machine-Learning   timzhang642   \n",
       "11                         Open3D       isl-org   \n",
       "12                        blender       blender   \n",
       "13             SpaceshipGenerator  a1studmuffin   \n",
       "14                     BlenderGIS       domlysz   \n",
       "15                          Fyrox   FyroxEngine   \n",
       "16                       openscad      openscad   \n",
       "17                   model-viewer        google   \n",
       "18                       spritejs      spritejs   \n",
       "19                 webglstudio.js       jagenjo   \n",
       "\n",
       "                                             Repo URL  Stars Count  \n",
       "0                  https://github.com/mrdoob/three.js        90600  \n",
       "1         https://github.com/pmndrs/react-three-fiber        22100  \n",
       "2                    https://github.com/libgdx/libgdx        21300  \n",
       "3             https://github.com/BabylonJS/Babylon.js        19800  \n",
       "4               https://github.com/ssloy/tinyrenderer        16600  \n",
       "5                  https://github.com/aframevr/aframe        15200  \n",
       "6   https://github.com/lettier/3d-game-shaders-for...        14900  \n",
       "7                  https://github.com/FreeCAD/FreeCAD        13700  \n",
       "8                  https://github.com/CesiumGS/cesium        10200  \n",
       "9                   https://github.com/metafizzy/zdog         9700  \n",
       "10  https://github.com/timzhang642/3D-Machine-Lear...         8800  \n",
       "11                  https://github.com/isl-org/Open3D         8400  \n",
       "12                 https://github.com/blender/blender         8100  \n",
       "13  https://github.com/a1studmuffin/SpaceshipGener...         7400  \n",
       "14              https://github.com/domlysz/BlenderGIS         6200  \n",
       "15               https://github.com/FyroxEngine/Fyrox         6000  \n",
       "16               https://github.com/openscad/openscad         5500  \n",
       "17             https://github.com/google/model-viewer         5500  \n",
       "18               https://github.com/spritejs/spritejs         5200  \n",
       "19          https://github.com/jagenjo/webglstudio.js         4900  "
      ]
     },
     "execution_count": 108,
     "metadata": {},
     "output_type": "execute_result"
    }
   ],
   "source": [
    "topic_repos_df"
   ]
  },
  {
   "cell_type": "markdown",
   "id": "19088804",
   "metadata": {},
   "source": [
    "#### Till now we have covered topic of 3d and we have gathered all the info pertaining to 3d. Likewise we will be doing for the other topics as well. "
   ]
  },
  {
   "cell_type": "code",
   "execution_count": 118,
   "id": "14a8e55a",
   "metadata": {},
   "outputs": [],
   "source": [
    "def get_topic_page(topic_link_list):\n",
    "    r = requests.get(topic_link_list)\n",
    "    if(r.status_code != 200):\n",
    "        raise Exeption(\"Failed to load page\").format()\n",
    "    htmlContent = r.content\n",
    "    soup = BeautifulSoup(htmlContent, 'html.parser')\n",
    "    return soup\n",
    "\n",
    "def get_repo_info(repo_tags, star_tags):\n",
    "    a_tags = repo_tags.find_all('a')\n",
    "    username = a_tags[0].text.strip()\n",
    "    repo_name = a_tags[1].text.strip()\n",
    "    base_url = 'https://github.com'\n",
    "    repo_url = base_url+a_tags[1].get('href')\n",
    "    stars = parsing_star_count(star_tags.text.strip())\n",
    "    return username, repo_name, repo_url, stars\n",
    "\n",
    "def get_topic_repos(soup):\n",
    "    repo_class = 'f3 color-fg-muted text-normal lh-condensed'\n",
    "    repo_tags = soup.find_all('h3', {'class': repo_class})\n",
    "    stars_id = 'repo-stars-counter-star'\n",
    "    stars_id_tag = soup.find_all('span', {'id': stars_id})\n",
    "    \n",
    "    repo_dict = {\n",
    "        'Repo Name':[],\n",
    "        'Username':[],\n",
    "        'Repo URL': [],\n",
    "        'Stars Count': []\n",
    "    }\n",
    "    for i in range(len(repo_tags)):\n",
    "        repo_info = get_repo_info(repo_tags[i], stars_id_tag[i])\n",
    "        repo_dict['Repo Name'].append(repo_info[1])\n",
    "        repo_dict['Username'].append(repo_info[0])\n",
    "        repo_dict['Repo URL'].append(repo_info[2])\n",
    "        repo_dict['Stars Count'].append(repo_info[3])\n",
    "    return pd.DataFrame(repo_dict)"
   ]
  },
  {
   "cell_type": "code",
   "execution_count": 121,
   "id": "75e1e165",
   "metadata": {},
   "outputs": [],
   "source": [
    "df_topic_1 = get_topic_repos(get_topic_page(topic_link_list[0]))"
   ]
  },
  {
   "cell_type": "code",
   "execution_count": 122,
   "id": "c6cc45b2",
   "metadata": {},
   "outputs": [
    {
     "data": {
      "text/html": [
       "<div>\n",
       "<style scoped>\n",
       "    .dataframe tbody tr th:only-of-type {\n",
       "        vertical-align: middle;\n",
       "    }\n",
       "\n",
       "    .dataframe tbody tr th {\n",
       "        vertical-align: top;\n",
       "    }\n",
       "\n",
       "    .dataframe thead th {\n",
       "        text-align: right;\n",
       "    }\n",
       "</style>\n",
       "<table border=\"1\" class=\"dataframe\">\n",
       "  <thead>\n",
       "    <tr style=\"text-align: right;\">\n",
       "      <th></th>\n",
       "      <th>Repo Name</th>\n",
       "      <th>Username</th>\n",
       "      <th>Repo URL</th>\n",
       "      <th>Stars Count</th>\n",
       "    </tr>\n",
       "  </thead>\n",
       "  <tbody>\n",
       "    <tr>\n",
       "      <th>0</th>\n",
       "      <td>three.js</td>\n",
       "      <td>mrdoob</td>\n",
       "      <td>https://github.com/mrdoob/three.js</td>\n",
       "      <td>90600</td>\n",
       "    </tr>\n",
       "    <tr>\n",
       "      <th>1</th>\n",
       "      <td>react-three-fiber</td>\n",
       "      <td>pmndrs</td>\n",
       "      <td>https://github.com/pmndrs/react-three-fiber</td>\n",
       "      <td>22100</td>\n",
       "    </tr>\n",
       "    <tr>\n",
       "      <th>2</th>\n",
       "      <td>libgdx</td>\n",
       "      <td>libgdx</td>\n",
       "      <td>https://github.com/libgdx/libgdx</td>\n",
       "      <td>21300</td>\n",
       "    </tr>\n",
       "    <tr>\n",
       "      <th>3</th>\n",
       "      <td>Babylon.js</td>\n",
       "      <td>BabylonJS</td>\n",
       "      <td>https://github.com/BabylonJS/Babylon.js</td>\n",
       "      <td>19800</td>\n",
       "    </tr>\n",
       "    <tr>\n",
       "      <th>4</th>\n",
       "      <td>tinyrenderer</td>\n",
       "      <td>ssloy</td>\n",
       "      <td>https://github.com/ssloy/tinyrenderer</td>\n",
       "      <td>16600</td>\n",
       "    </tr>\n",
       "    <tr>\n",
       "      <th>5</th>\n",
       "      <td>aframe</td>\n",
       "      <td>aframevr</td>\n",
       "      <td>https://github.com/aframevr/aframe</td>\n",
       "      <td>15200</td>\n",
       "    </tr>\n",
       "    <tr>\n",
       "      <th>6</th>\n",
       "      <td>3d-game-shaders-for-beginners</td>\n",
       "      <td>lettier</td>\n",
       "      <td>https://github.com/lettier/3d-game-shaders-for...</td>\n",
       "      <td>14900</td>\n",
       "    </tr>\n",
       "    <tr>\n",
       "      <th>7</th>\n",
       "      <td>FreeCAD</td>\n",
       "      <td>FreeCAD</td>\n",
       "      <td>https://github.com/FreeCAD/FreeCAD</td>\n",
       "      <td>13700</td>\n",
       "    </tr>\n",
       "    <tr>\n",
       "      <th>8</th>\n",
       "      <td>cesium</td>\n",
       "      <td>CesiumGS</td>\n",
       "      <td>https://github.com/CesiumGS/cesium</td>\n",
       "      <td>10200</td>\n",
       "    </tr>\n",
       "    <tr>\n",
       "      <th>9</th>\n",
       "      <td>zdog</td>\n",
       "      <td>metafizzy</td>\n",
       "      <td>https://github.com/metafizzy/zdog</td>\n",
       "      <td>9700</td>\n",
       "    </tr>\n",
       "    <tr>\n",
       "      <th>10</th>\n",
       "      <td>3D-Machine-Learning</td>\n",
       "      <td>timzhang642</td>\n",
       "      <td>https://github.com/timzhang642/3D-Machine-Lear...</td>\n",
       "      <td>8800</td>\n",
       "    </tr>\n",
       "    <tr>\n",
       "      <th>11</th>\n",
       "      <td>Open3D</td>\n",
       "      <td>isl-org</td>\n",
       "      <td>https://github.com/isl-org/Open3D</td>\n",
       "      <td>8400</td>\n",
       "    </tr>\n",
       "    <tr>\n",
       "      <th>12</th>\n",
       "      <td>blender</td>\n",
       "      <td>blender</td>\n",
       "      <td>https://github.com/blender/blender</td>\n",
       "      <td>8100</td>\n",
       "    </tr>\n",
       "    <tr>\n",
       "      <th>13</th>\n",
       "      <td>SpaceshipGenerator</td>\n",
       "      <td>a1studmuffin</td>\n",
       "      <td>https://github.com/a1studmuffin/SpaceshipGener...</td>\n",
       "      <td>7400</td>\n",
       "    </tr>\n",
       "    <tr>\n",
       "      <th>14</th>\n",
       "      <td>BlenderGIS</td>\n",
       "      <td>domlysz</td>\n",
       "      <td>https://github.com/domlysz/BlenderGIS</td>\n",
       "      <td>6200</td>\n",
       "    </tr>\n",
       "    <tr>\n",
       "      <th>15</th>\n",
       "      <td>Fyrox</td>\n",
       "      <td>FyroxEngine</td>\n",
       "      <td>https://github.com/FyroxEngine/Fyrox</td>\n",
       "      <td>6000</td>\n",
       "    </tr>\n",
       "    <tr>\n",
       "      <th>16</th>\n",
       "      <td>openscad</td>\n",
       "      <td>openscad</td>\n",
       "      <td>https://github.com/openscad/openscad</td>\n",
       "      <td>5500</td>\n",
       "    </tr>\n",
       "    <tr>\n",
       "      <th>17</th>\n",
       "      <td>model-viewer</td>\n",
       "      <td>google</td>\n",
       "      <td>https://github.com/google/model-viewer</td>\n",
       "      <td>5500</td>\n",
       "    </tr>\n",
       "    <tr>\n",
       "      <th>18</th>\n",
       "      <td>spritejs</td>\n",
       "      <td>spritejs</td>\n",
       "      <td>https://github.com/spritejs/spritejs</td>\n",
       "      <td>5200</td>\n",
       "    </tr>\n",
       "    <tr>\n",
       "      <th>19</th>\n",
       "      <td>webglstudio.js</td>\n",
       "      <td>jagenjo</td>\n",
       "      <td>https://github.com/jagenjo/webglstudio.js</td>\n",
       "      <td>4900</td>\n",
       "    </tr>\n",
       "  </tbody>\n",
       "</table>\n",
       "</div>"
      ],
      "text/plain": [
       "                        Repo Name      Username  \\\n",
       "0                        three.js        mrdoob   \n",
       "1               react-three-fiber        pmndrs   \n",
       "2                          libgdx        libgdx   \n",
       "3                      Babylon.js     BabylonJS   \n",
       "4                    tinyrenderer         ssloy   \n",
       "5                          aframe      aframevr   \n",
       "6   3d-game-shaders-for-beginners       lettier   \n",
       "7                         FreeCAD       FreeCAD   \n",
       "8                          cesium      CesiumGS   \n",
       "9                            zdog     metafizzy   \n",
       "10            3D-Machine-Learning   timzhang642   \n",
       "11                         Open3D       isl-org   \n",
       "12                        blender       blender   \n",
       "13             SpaceshipGenerator  a1studmuffin   \n",
       "14                     BlenderGIS       domlysz   \n",
       "15                          Fyrox   FyroxEngine   \n",
       "16                       openscad      openscad   \n",
       "17                   model-viewer        google   \n",
       "18                       spritejs      spritejs   \n",
       "19                 webglstudio.js       jagenjo   \n",
       "\n",
       "                                             Repo URL  Stars Count  \n",
       "0                  https://github.com/mrdoob/three.js        90600  \n",
       "1         https://github.com/pmndrs/react-three-fiber        22100  \n",
       "2                    https://github.com/libgdx/libgdx        21300  \n",
       "3             https://github.com/BabylonJS/Babylon.js        19800  \n",
       "4               https://github.com/ssloy/tinyrenderer        16600  \n",
       "5                  https://github.com/aframevr/aframe        15200  \n",
       "6   https://github.com/lettier/3d-game-shaders-for...        14900  \n",
       "7                  https://github.com/FreeCAD/FreeCAD        13700  \n",
       "8                  https://github.com/CesiumGS/cesium        10200  \n",
       "9                   https://github.com/metafizzy/zdog         9700  \n",
       "10  https://github.com/timzhang642/3D-Machine-Lear...         8800  \n",
       "11                  https://github.com/isl-org/Open3D         8400  \n",
       "12                 https://github.com/blender/blender         8100  \n",
       "13  https://github.com/a1studmuffin/SpaceshipGener...         7400  \n",
       "14              https://github.com/domlysz/BlenderGIS         6200  \n",
       "15               https://github.com/FyroxEngine/Fyrox         6000  \n",
       "16               https://github.com/openscad/openscad         5500  \n",
       "17             https://github.com/google/model-viewer         5500  \n",
       "18               https://github.com/spritejs/spritejs         5200  \n",
       "19          https://github.com/jagenjo/webglstudio.js         4900  "
      ]
     },
     "execution_count": 122,
     "metadata": {},
     "output_type": "execute_result"
    }
   ],
   "source": [
    "df_topic_1"
   ]
  },
  {
   "cell_type": "code",
   "execution_count": 125,
   "id": "253fe1a9",
   "metadata": {},
   "outputs": [],
   "source": [
    "df_topic_2 = get_topic_repos(get_topic_page(topic_link_list[1]))"
   ]
  },
  {
   "cell_type": "code",
   "execution_count": 126,
   "id": "734a1341",
   "metadata": {},
   "outputs": [
    {
     "data": {
      "text/html": [
       "<div>\n",
       "<style scoped>\n",
       "    .dataframe tbody tr th:only-of-type {\n",
       "        vertical-align: middle;\n",
       "    }\n",
       "\n",
       "    .dataframe tbody tr th {\n",
       "        vertical-align: top;\n",
       "    }\n",
       "\n",
       "    .dataframe thead th {\n",
       "        text-align: right;\n",
       "    }\n",
       "</style>\n",
       "<table border=\"1\" class=\"dataframe\">\n",
       "  <thead>\n",
       "    <tr style=\"text-align: right;\">\n",
       "      <th></th>\n",
       "      <th>Repo Name</th>\n",
       "      <th>Username</th>\n",
       "      <th>Repo URL</th>\n",
       "      <th>Stars Count</th>\n",
       "    </tr>\n",
       "  </thead>\n",
       "  <tbody>\n",
       "    <tr>\n",
       "      <th>0</th>\n",
       "      <td>Blog</td>\n",
       "      <td>ljianshu</td>\n",
       "      <td>https://github.com/ljianshu/Blog</td>\n",
       "      <td>7500</td>\n",
       "    </tr>\n",
       "    <tr>\n",
       "      <th>1</th>\n",
       "      <td>infinite-scroll</td>\n",
       "      <td>metafizzy</td>\n",
       "      <td>https://github.com/metafizzy/infinite-scroll</td>\n",
       "      <td>7200</td>\n",
       "    </tr>\n",
       "    <tr>\n",
       "      <th>2</th>\n",
       "      <td>unfetch</td>\n",
       "      <td>developit</td>\n",
       "      <td>https://github.com/developit/unfetch</td>\n",
       "      <td>5500</td>\n",
       "    </tr>\n",
       "    <tr>\n",
       "      <th>3</th>\n",
       "      <td>tabulator</td>\n",
       "      <td>olifolkerd</td>\n",
       "      <td>https://github.com/olifolkerd/tabulator</td>\n",
       "      <td>5300</td>\n",
       "    </tr>\n",
       "    <tr>\n",
       "      <th>4</th>\n",
       "      <td>form</td>\n",
       "      <td>jquery-form</td>\n",
       "      <td>https://github.com/jquery-form/form</td>\n",
       "      <td>5200</td>\n",
       "    </tr>\n",
       "    <tr>\n",
       "      <th>5</th>\n",
       "      <td>elFinder</td>\n",
       "      <td>Studio-42</td>\n",
       "      <td>https://github.com/Studio-42/elFinder</td>\n",
       "      <td>4400</td>\n",
       "    </tr>\n",
       "    <tr>\n",
       "      <th>6</th>\n",
       "      <td>wretch</td>\n",
       "      <td>elbywan</td>\n",
       "      <td>https://github.com/elbywan/wretch</td>\n",
       "      <td>3800</td>\n",
       "    </tr>\n",
       "    <tr>\n",
       "      <th>7</th>\n",
       "      <td>learn-to-send-email-via-google-script-html-no-...</td>\n",
       "      <td>dwyl</td>\n",
       "      <td>https://github.com/dwyl/learn-to-send-email-vi...</td>\n",
       "      <td>3000</td>\n",
       "    </tr>\n",
       "    <tr>\n",
       "      <th>8</th>\n",
       "      <td>reqwest</td>\n",
       "      <td>ded</td>\n",
       "      <td>https://github.com/ded/reqwest</td>\n",
       "      <td>2900</td>\n",
       "    </tr>\n",
       "    <tr>\n",
       "      <th>9</th>\n",
       "      <td>bliss</td>\n",
       "      <td>LeaVerou</td>\n",
       "      <td>https://github.com/LeaVerou/bliss</td>\n",
       "      <td>2400</td>\n",
       "    </tr>\n",
       "    <tr>\n",
       "      <th>10</th>\n",
       "      <td>ajax-hook</td>\n",
       "      <td>wendux</td>\n",
       "      <td>https://github.com/wendux/ajax-hook</td>\n",
       "      <td>2300</td>\n",
       "    </tr>\n",
       "    <tr>\n",
       "      <th>11</th>\n",
       "      <td>featherlight</td>\n",
       "      <td>noelboss</td>\n",
       "      <td>https://github.com/noelboss/featherlight</td>\n",
       "      <td>2100</td>\n",
       "    </tr>\n",
       "    <tr>\n",
       "      <th>12</th>\n",
       "      <td>jquery-confirm</td>\n",
       "      <td>craftpip</td>\n",
       "      <td>https://github.com/craftpip/jquery-confirm</td>\n",
       "      <td>1800</td>\n",
       "    </tr>\n",
       "    <tr>\n",
       "      <th>13</th>\n",
       "      <td>sente</td>\n",
       "      <td>ptaoussanis</td>\n",
       "      <td>https://github.com/ptaoussanis/sente</td>\n",
       "      <td>1700</td>\n",
       "    </tr>\n",
       "    <tr>\n",
       "      <th>14</th>\n",
       "      <td>tracy</td>\n",
       "      <td>nette</td>\n",
       "      <td>https://github.com/nette/tracy</td>\n",
       "      <td>1600</td>\n",
       "    </tr>\n",
       "    <tr>\n",
       "      <th>15</th>\n",
       "      <td>Enterprise</td>\n",
       "      <td>joaomilho</td>\n",
       "      <td>https://github.com/joaomilho/Enterprise</td>\n",
       "      <td>1600</td>\n",
       "    </tr>\n",
       "    <tr>\n",
       "      <th>16</th>\n",
       "      <td>css-spinner</td>\n",
       "      <td>loadingio</td>\n",
       "      <td>https://github.com/loadingio/css-spinner</td>\n",
       "      <td>1500</td>\n",
       "    </tr>\n",
       "    <tr>\n",
       "      <th>17</th>\n",
       "      <td>tsrpc</td>\n",
       "      <td>k8w</td>\n",
       "      <td>https://github.com/k8w/tsrpc</td>\n",
       "      <td>1500</td>\n",
       "    </tr>\n",
       "    <tr>\n",
       "      <th>18</th>\n",
       "      <td>eCommerce</td>\n",
       "      <td>codingforentrepreneurs</td>\n",
       "      <td>https://github.com/codingforentrepreneurs/eCom...</td>\n",
       "      <td>1400</td>\n",
       "    </tr>\n",
       "    <tr>\n",
       "      <th>19</th>\n",
       "      <td>jeeplatform</td>\n",
       "      <td>u014427391</td>\n",
       "      <td>https://github.com/u014427391/jeeplatform</td>\n",
       "      <td>1400</td>\n",
       "    </tr>\n",
       "  </tbody>\n",
       "</table>\n",
       "</div>"
      ],
      "text/plain": [
       "                                            Repo Name                Username  \\\n",
       "0                                                Blog                ljianshu   \n",
       "1                                     infinite-scroll               metafizzy   \n",
       "2                                             unfetch               developit   \n",
       "3                                           tabulator              olifolkerd   \n",
       "4                                                form             jquery-form   \n",
       "5                                            elFinder               Studio-42   \n",
       "6                                              wretch                 elbywan   \n",
       "7   learn-to-send-email-via-google-script-html-no-...                    dwyl   \n",
       "8                                             reqwest                     ded   \n",
       "9                                               bliss                LeaVerou   \n",
       "10                                          ajax-hook                  wendux   \n",
       "11                                       featherlight                noelboss   \n",
       "12                                     jquery-confirm                craftpip   \n",
       "13                                              sente             ptaoussanis   \n",
       "14                                              tracy                   nette   \n",
       "15                                         Enterprise               joaomilho   \n",
       "16                                        css-spinner               loadingio   \n",
       "17                                              tsrpc                     k8w   \n",
       "18                                          eCommerce  codingforentrepreneurs   \n",
       "19                                        jeeplatform              u014427391   \n",
       "\n",
       "                                             Repo URL  Stars Count  \n",
       "0                    https://github.com/ljianshu/Blog         7500  \n",
       "1        https://github.com/metafizzy/infinite-scroll         7200  \n",
       "2                https://github.com/developit/unfetch         5500  \n",
       "3             https://github.com/olifolkerd/tabulator         5300  \n",
       "4                 https://github.com/jquery-form/form         5200  \n",
       "5               https://github.com/Studio-42/elFinder         4400  \n",
       "6                   https://github.com/elbywan/wretch         3800  \n",
       "7   https://github.com/dwyl/learn-to-send-email-vi...         3000  \n",
       "8                      https://github.com/ded/reqwest         2900  \n",
       "9                   https://github.com/LeaVerou/bliss         2400  \n",
       "10                https://github.com/wendux/ajax-hook         2300  \n",
       "11           https://github.com/noelboss/featherlight         2100  \n",
       "12         https://github.com/craftpip/jquery-confirm         1800  \n",
       "13               https://github.com/ptaoussanis/sente         1700  \n",
       "14                     https://github.com/nette/tracy         1600  \n",
       "15            https://github.com/joaomilho/Enterprise         1600  \n",
       "16           https://github.com/loadingio/css-spinner         1500  \n",
       "17                       https://github.com/k8w/tsrpc         1500  \n",
       "18  https://github.com/codingforentrepreneurs/eCom...         1400  \n",
       "19          https://github.com/u014427391/jeeplatform         1400  "
      ]
     },
     "execution_count": 126,
     "metadata": {},
     "output_type": "execute_result"
    }
   ],
   "source": [
    "df_topic_2"
   ]
  },
  {
   "cell_type": "markdown",
   "id": "f57fce7c",
   "metadata": {},
   "source": [
    "Transfer the resulted dataframe to csv"
   ]
  },
  {
   "cell_type": "code",
   "execution_count": null,
   "id": "6dae3af7",
   "metadata": {},
   "outputs": [],
   "source": [
    "df_topic_2.to_csv(\"name_of_file.csv\", index=False)"
   ]
  }
 ],
 "metadata": {
  "kernelspec": {
   "display_name": "Python 3 (ipykernel)",
   "language": "python",
   "name": "python3"
  },
  "language_info": {
   "codemirror_mode": {
    "name": "ipython",
    "version": 3
   },
   "file_extension": ".py",
   "mimetype": "text/x-python",
   "name": "python",
   "nbconvert_exporter": "python",
   "pygments_lexer": "ipython3",
   "version": "3.9.13"
  }
 },
 "nbformat": 4,
 "nbformat_minor": 5
}
